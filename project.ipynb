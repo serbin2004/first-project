{
 "cells": [
  {
   "cell_type": "markdown",
   "metadata": {},
   "source": [
    "Привет! меня зовут Люман Аблаев. Сегодня я проверю твой проект.\n",
    "<br> Дальнейшее общение будет происходить на \"ты\" если это не вызывает никаких проблем.\n",
    "<br> Желательно реагировать на красные комментарии ('исправил', 'не понятно как исправить ошибку', ...)\n",
    "<br> Пожалуйста, не удаляй комментарии ревьюера, так как они повышают качество повторного ревью.\n",
    "\n",
    "Комментарии будут в <font color='green'>зеленой</font>, <font color='blue'>синей</font> или <font color='red'>красной</font> рамках:\n",
    "\n",
    "\n",
    "<div class=\"alert alert-block alert-success\">\n",
    "<b>Успех:</b> Если все сделано отлично\n",
    "</div>\n",
    "\n",
    "<div class=\"alert alert-block alert-info\">\n",
    "<b>Совет: </b> Если можно немного улучшить\n",
    "</div>\n",
    "\n",
    "<div class=\"alert alert-block alert-danger\">\n",
    "<b>Ошибка:</b> Если требуются исправления. Работа не может быть принята с красными комментариями.\n",
    "</div>\n",
    "\n",
    "-------------------\n",
    "\n",
    "Будет очень хорошо, если ты будешь помечать свои действия следующим образом:\n",
    "<div class=\"alert alert-block alert-warning\">\n",
    "<b>Комментарий студента:</b> ..\n",
    "</div>\n",
    "<div class=\"alert alert-block alert-warning\">\n",
    "<b>Изменения:</b> Были внесены следующие изменения ...\n",
    "</div>\n",
    "\n",
    "<font color='orange' style='font-size:24px; font-weight:bold'>Общее впечатление</font>\n",
    "* Спасибо за  качественную работу, было интересно ее проверять.\n",
    "- Я оставил некоторые советы надеюсь они будут полезными или интересными.\n",
    "- Есть небольшие недочеты, но думаю у тебя не составить труда их исправить\n",
    "- Жду обновленную работу!"
   ]
  },
  {
   "cell_type": "markdown",
   "metadata": {},
   "source": [
    "<div class=\"alert alert-block alert-warning\">\n",
    "<b>Комментарий студента:</b> Люман добрый вечер!\n",
    "    \n",
    "Рад нашему е-знакомству. Общение на ты, мне комфортно. Спасибо большое за оперативный ответ. Я постараюсь быть конструктивным и учесть все твои пожелания и советы!\n",
    "</div>"
   ]
  },
  {
   "cell_type": "markdown",
   "metadata": {},
   "source": [
    "<font color='orange' style='font-size:24px; font-weight:bold'>Общее впечатление[2]</font>\n",
    "* Спасибо и тебе за оперативность\n",
    "- Приятно видеть фидбек \n",
    "- Недочеты исправлены - работа полностью корректна\n",
    "- Рад был быть полезен. Удачи в дальнейшем обучении!"
   ]
  },
  {
   "cell_type": "markdown",
   "metadata": {},
   "source": [
    "# Выбор локации для скважины"
   ]
  },
  {
   "cell_type": "markdown",
   "metadata": {},
   "source": [
    "Допустим, вы работаете в добывающей компании «ГлавРосГосНефть». Нужно решить, где бурить новую скважину.\n",
    "\n",
    "Вам предоставлены пробы нефти в трёх регионах: в каждом 10 000 месторождений, где измерили качество нефти и объём её запасов. Постройте модель машинного обучения, которая поможет определить регион, где добыча принесёт наибольшую прибыль. Проанализируйте возможную прибыль и риски техникой *Bootstrap.*\n",
    "\n",
    "Шаги для выбора локации:\n",
    "\n",
    "- В избранном регионе ищут месторождения, для каждого определяют значения признаков;\n",
    "- Строят модель и оценивают объём запасов;\n",
    "- Выбирают месторождения с самым высокими оценками значений. Количество месторождений зависит от бюджета компании и стоимости разработки одной скважины;\n",
    "- Прибыль равна суммарной прибыли отобранных месторождений."
   ]
  },
  {
   "cell_type": "markdown",
   "metadata": {},
   "source": [
    "## Загрузка и подготовка данных"
   ]
  },
  {
   "cell_type": "markdown",
   "metadata": {},
   "source": [
    "<div  style=\"border-radius: 10px; box-shadow: 2px 2px 2px; border: 1px solid; padding: 10px \">\n",
    "\n",
    "1.1 Загрузить данные. Файлы geo_data_0.csv, geo_data_1.csv, geo_data_2.csv доступны по ссылкам в описании данных:\n",
    "\n",
    "<b>Данные для первого региона:</b>\n",
    "\n",
    "geo_data_0.csv\n",
    "\n",
    "<b>Данные для второго региона:</b>\n",
    "\n",
    "geo_data_1.csv\n",
    "\n",
    "<b>Данные для третьего региона:</b>\n",
    "\n",
    "geo_data_2.csv\n",
    "\n",
    "1.2 Проверить, что данные в таблицах соответствуют описанию."
   ]
  },
  {
   "cell_type": "markdown",
   "metadata": {},
   "source": [
    "<div  style=\"border-radius: 10px; box-shadow: 2px 2px 2px; border: 1px solid; padding: 10px \">\n",
    "<a id=\"загрузка_данных\"></a>\n",
    "\n",
    "Загрузка всех требуемых библиотек\n",
    "    \n",
    "С целью обеспечения удобства для других разработчиков или коллег, которые будут просматривать или использовать код. Сгруппируем все необходимые импорты. Это обеспечивает четкое понимание того, какие библиотеки и инструменты будут использоваться в нашем проекте.\n",
    "    Импортируем необходимые библиотеки (pandas, matplotlib, seaborn и т.д.) и функции."
   ]
  },
  {
   "cell_type": "code",
   "execution_count": 1,
   "metadata": {},
   "outputs": [
    {
     "name": "stdout",
     "output_type": "stream",
     "text": [
      "Note: you may need to restart the kernel to use updated packages.\n"
     ]
    }
   ],
   "source": [
    "pip install sweetviz -q"
   ]
  },
  {
   "cell_type": "code",
   "execution_count": 2,
   "metadata": {},
   "outputs": [
    {
     "name": "stdout",
     "output_type": "stream",
     "text": [
      "\u001b[31mERROR: pip's dependency resolver does not currently take into account all the packages that are installed. This behaviour is the source of the following dependency conflicts.\n",
      "thinc 8.0.17 requires pydantic!=1.8,!=1.8.1,<1.9.0,>=1.7.4, but you have pydantic 2.8.2 which is incompatible.\n",
      "spacy 3.2.0 requires pydantic!=1.8,!=1.8.1,<1.9.0,>=1.7.4, but you have pydantic 2.8.2 which is incompatible.\u001b[0m\n",
      "Note: you may need to restart the kernel to use updated packages.\n"
     ]
    }
   ],
   "source": [
    "pip install ydata-profiling -q"
   ]
  },
  {
   "cell_type": "code",
   "execution_count": 3,
   "metadata": {},
   "outputs": [
    {
     "name": "stdout",
     "output_type": "stream",
     "text": [
      "Note: you may need to restart the kernel to use updated packages.\n"
     ]
    }
   ],
   "source": [
    "pip install --upgrade matplotlib seaborn -q"
   ]
  },
  {
   "cell_type": "code",
   "execution_count": 4,
   "metadata": {},
   "outputs": [],
   "source": [
    "# Библиотеки сторонних разработчиков\n",
    "import pandas as pd\n",
    "from sklearn.model_selection import train_test_split\n",
    "from sklearn.linear_model import LinearRegression\n",
    "from sklearn.metrics import mean_squared_error\n",
    "import numpy as np\n",
    "import os\n",
    "import sweetviz as sv\n",
    "from IPython.display import IFrame\n",
    "from ydata_profiling import ProfileReport\n"
   ]
  },
  {
   "cell_type": "markdown",
   "metadata": {},
   "source": [
    "\n",
    "<div class=\"alert alert-block alert-success\">\n",
    "<b>Успех:</b> Импорты  на месте\n",
    "</div>\n"
   ]
  },
  {
   "cell_type": "markdown",
   "metadata": {},
   "source": [
    "<div  style=\"border-radius: 10px; box-shadow: 2px 2px 2px; border: 1px solid; padding: 10px \">\n",
    "    \n",
    "Загрузка данных и вывод 5 первых строк со всех датафреймов.\n",
    "    \n",
    "При считывании данных из файла перестрахуем себя от ошибок, связанных, например, с неверным указанием пути к файлу. А иногда бывает, что работаешь с файлом локально, выгружаешь его на сервер, ожидая, что он будет принимать данные, которые лежат на том же сервере, а код падает с ошибкой, потому что путь к файлу не поменялся с локального на серверный. Применим код ниже."
   ]
  },
  {
   "cell_type": "code",
   "execution_count": 5,
   "metadata": {},
   "outputs": [
    {
     "name": "stdout",
     "output_type": "stream",
     "text": [
      "Информация о датафрейме geo_data_0:\n",
      "\n",
      "<class 'pandas.core.frame.DataFrame'>\n",
      "RangeIndex: 100000 entries, 0 to 99999\n",
      "Data columns (total 5 columns):\n",
      " #   Column   Non-Null Count   Dtype  \n",
      "---  ------   --------------   -----  \n",
      " 0   id       100000 non-null  object \n",
      " 1   f0       100000 non-null  float64\n",
      " 2   f1       100000 non-null  float64\n",
      " 3   f2       100000 non-null  float64\n",
      " 4   product  100000 non-null  float64\n",
      "dtypes: float64(4), object(1)\n",
      "memory usage: 3.8+ MB\n"
     ]
    },
    {
     "data": {
      "text/html": [
       "<div>\n",
       "<style scoped>\n",
       "    .dataframe tbody tr th:only-of-type {\n",
       "        vertical-align: middle;\n",
       "    }\n",
       "\n",
       "    .dataframe tbody tr th {\n",
       "        vertical-align: top;\n",
       "    }\n",
       "\n",
       "    .dataframe thead th {\n",
       "        text-align: right;\n",
       "    }\n",
       "</style>\n",
       "<table border=\"1\" class=\"dataframe\">\n",
       "  <thead>\n",
       "    <tr style=\"text-align: right;\">\n",
       "      <th></th>\n",
       "      <th>id</th>\n",
       "      <th>f0</th>\n",
       "      <th>f1</th>\n",
       "      <th>f2</th>\n",
       "      <th>product</th>\n",
       "    </tr>\n",
       "  </thead>\n",
       "  <tbody>\n",
       "    <tr>\n",
       "      <th>0</th>\n",
       "      <td>txEyH</td>\n",
       "      <td>0.705745</td>\n",
       "      <td>-0.497823</td>\n",
       "      <td>1.221170</td>\n",
       "      <td>105.280062</td>\n",
       "    </tr>\n",
       "    <tr>\n",
       "      <th>1</th>\n",
       "      <td>2acmU</td>\n",
       "      <td>1.334711</td>\n",
       "      <td>-0.340164</td>\n",
       "      <td>4.365080</td>\n",
       "      <td>73.037750</td>\n",
       "    </tr>\n",
       "    <tr>\n",
       "      <th>2</th>\n",
       "      <td>409Wp</td>\n",
       "      <td>1.022732</td>\n",
       "      <td>0.151990</td>\n",
       "      <td>1.419926</td>\n",
       "      <td>85.265647</td>\n",
       "    </tr>\n",
       "    <tr>\n",
       "      <th>3</th>\n",
       "      <td>iJLyR</td>\n",
       "      <td>-0.032172</td>\n",
       "      <td>0.139033</td>\n",
       "      <td>2.978566</td>\n",
       "      <td>168.620776</td>\n",
       "    </tr>\n",
       "    <tr>\n",
       "      <th>4</th>\n",
       "      <td>Xdl7t</td>\n",
       "      <td>1.988431</td>\n",
       "      <td>0.155413</td>\n",
       "      <td>4.751769</td>\n",
       "      <td>154.036647</td>\n",
       "    </tr>\n",
       "  </tbody>\n",
       "</table>\n",
       "</div>"
      ],
      "text/plain": [
       "      id        f0        f1        f2     product\n",
       "0  txEyH  0.705745 -0.497823  1.221170  105.280062\n",
       "1  2acmU  1.334711 -0.340164  4.365080   73.037750\n",
       "2  409Wp  1.022732  0.151990  1.419926   85.265647\n",
       "3  iJLyR -0.032172  0.139033  2.978566  168.620776\n",
       "4  Xdl7t  1.988431  0.155413  4.751769  154.036647"
      ]
     },
     "metadata": {},
     "output_type": "display_data"
    },
    {
     "name": "stdout",
     "output_type": "stream",
     "text": [
      "Информация о датафрейме geo_data_1:\n",
      "\n",
      "<class 'pandas.core.frame.DataFrame'>\n",
      "RangeIndex: 100000 entries, 0 to 99999\n",
      "Data columns (total 5 columns):\n",
      " #   Column   Non-Null Count   Dtype  \n",
      "---  ------   --------------   -----  \n",
      " 0   id       100000 non-null  object \n",
      " 1   f0       100000 non-null  float64\n",
      " 2   f1       100000 non-null  float64\n",
      " 3   f2       100000 non-null  float64\n",
      " 4   product  100000 non-null  float64\n",
      "dtypes: float64(4), object(1)\n",
      "memory usage: 3.8+ MB\n"
     ]
    },
    {
     "data": {
      "text/html": [
       "<div>\n",
       "<style scoped>\n",
       "    .dataframe tbody tr th:only-of-type {\n",
       "        vertical-align: middle;\n",
       "    }\n",
       "\n",
       "    .dataframe tbody tr th {\n",
       "        vertical-align: top;\n",
       "    }\n",
       "\n",
       "    .dataframe thead th {\n",
       "        text-align: right;\n",
       "    }\n",
       "</style>\n",
       "<table border=\"1\" class=\"dataframe\">\n",
       "  <thead>\n",
       "    <tr style=\"text-align: right;\">\n",
       "      <th></th>\n",
       "      <th>id</th>\n",
       "      <th>f0</th>\n",
       "      <th>f1</th>\n",
       "      <th>f2</th>\n",
       "      <th>product</th>\n",
       "    </tr>\n",
       "  </thead>\n",
       "  <tbody>\n",
       "    <tr>\n",
       "      <th>0</th>\n",
       "      <td>kBEdx</td>\n",
       "      <td>-15.001348</td>\n",
       "      <td>-8.276000</td>\n",
       "      <td>-0.005876</td>\n",
       "      <td>3.179103</td>\n",
       "    </tr>\n",
       "    <tr>\n",
       "      <th>1</th>\n",
       "      <td>62mP7</td>\n",
       "      <td>14.272088</td>\n",
       "      <td>-3.475083</td>\n",
       "      <td>0.999183</td>\n",
       "      <td>26.953261</td>\n",
       "    </tr>\n",
       "    <tr>\n",
       "      <th>2</th>\n",
       "      <td>vyE1P</td>\n",
       "      <td>6.263187</td>\n",
       "      <td>-5.948386</td>\n",
       "      <td>5.001160</td>\n",
       "      <td>134.766305</td>\n",
       "    </tr>\n",
       "    <tr>\n",
       "      <th>3</th>\n",
       "      <td>KcrkZ</td>\n",
       "      <td>-13.081196</td>\n",
       "      <td>-11.506057</td>\n",
       "      <td>4.999415</td>\n",
       "      <td>137.945408</td>\n",
       "    </tr>\n",
       "    <tr>\n",
       "      <th>4</th>\n",
       "      <td>AHL4O</td>\n",
       "      <td>12.702195</td>\n",
       "      <td>-8.147433</td>\n",
       "      <td>5.004363</td>\n",
       "      <td>134.766305</td>\n",
       "    </tr>\n",
       "  </tbody>\n",
       "</table>\n",
       "</div>"
      ],
      "text/plain": [
       "      id         f0         f1        f2     product\n",
       "0  kBEdx -15.001348  -8.276000 -0.005876    3.179103\n",
       "1  62mP7  14.272088  -3.475083  0.999183   26.953261\n",
       "2  vyE1P   6.263187  -5.948386  5.001160  134.766305\n",
       "3  KcrkZ -13.081196 -11.506057  4.999415  137.945408\n",
       "4  AHL4O  12.702195  -8.147433  5.004363  134.766305"
      ]
     },
     "metadata": {},
     "output_type": "display_data"
    },
    {
     "name": "stdout",
     "output_type": "stream",
     "text": [
      "Информация о датафрейме geo_data_2:\n",
      "\n",
      "<class 'pandas.core.frame.DataFrame'>\n",
      "RangeIndex: 100000 entries, 0 to 99999\n",
      "Data columns (total 5 columns):\n",
      " #   Column   Non-Null Count   Dtype  \n",
      "---  ------   --------------   -----  \n",
      " 0   id       100000 non-null  object \n",
      " 1   f0       100000 non-null  float64\n",
      " 2   f1       100000 non-null  float64\n",
      " 3   f2       100000 non-null  float64\n",
      " 4   product  100000 non-null  float64\n",
      "dtypes: float64(4), object(1)\n",
      "memory usage: 3.8+ MB\n"
     ]
    },
    {
     "data": {
      "text/html": [
       "<div>\n",
       "<style scoped>\n",
       "    .dataframe tbody tr th:only-of-type {\n",
       "        vertical-align: middle;\n",
       "    }\n",
       "\n",
       "    .dataframe tbody tr th {\n",
       "        vertical-align: top;\n",
       "    }\n",
       "\n",
       "    .dataframe thead th {\n",
       "        text-align: right;\n",
       "    }\n",
       "</style>\n",
       "<table border=\"1\" class=\"dataframe\">\n",
       "  <thead>\n",
       "    <tr style=\"text-align: right;\">\n",
       "      <th></th>\n",
       "      <th>id</th>\n",
       "      <th>f0</th>\n",
       "      <th>f1</th>\n",
       "      <th>f2</th>\n",
       "      <th>product</th>\n",
       "    </tr>\n",
       "  </thead>\n",
       "  <tbody>\n",
       "    <tr>\n",
       "      <th>0</th>\n",
       "      <td>fwXo0</td>\n",
       "      <td>-1.146987</td>\n",
       "      <td>0.963328</td>\n",
       "      <td>-0.828965</td>\n",
       "      <td>27.758673</td>\n",
       "    </tr>\n",
       "    <tr>\n",
       "      <th>1</th>\n",
       "      <td>WJtFt</td>\n",
       "      <td>0.262778</td>\n",
       "      <td>0.269839</td>\n",
       "      <td>-2.530187</td>\n",
       "      <td>56.069697</td>\n",
       "    </tr>\n",
       "    <tr>\n",
       "      <th>2</th>\n",
       "      <td>ovLUW</td>\n",
       "      <td>0.194587</td>\n",
       "      <td>0.289035</td>\n",
       "      <td>-5.586433</td>\n",
       "      <td>62.871910</td>\n",
       "    </tr>\n",
       "    <tr>\n",
       "      <th>3</th>\n",
       "      <td>q6cA6</td>\n",
       "      <td>2.236060</td>\n",
       "      <td>-0.553760</td>\n",
       "      <td>0.930038</td>\n",
       "      <td>114.572842</td>\n",
       "    </tr>\n",
       "    <tr>\n",
       "      <th>4</th>\n",
       "      <td>WPMUX</td>\n",
       "      <td>-0.515993</td>\n",
       "      <td>1.716266</td>\n",
       "      <td>5.899011</td>\n",
       "      <td>149.600746</td>\n",
       "    </tr>\n",
       "  </tbody>\n",
       "</table>\n",
       "</div>"
      ],
      "text/plain": [
       "      id        f0        f1        f2     product\n",
       "0  fwXo0 -1.146987  0.963328 -0.828965   27.758673\n",
       "1  WJtFt  0.262778  0.269839 -2.530187   56.069697\n",
       "2  ovLUW  0.194587  0.289035 -5.586433   62.871910\n",
       "3  q6cA6  2.236060 -0.553760  0.930038  114.572842\n",
       "4  WPMUX -0.515993  1.716266  5.899011  149.600746"
      ]
     },
     "metadata": {},
     "output_type": "display_data"
    }
   ],
   "source": [
    "# Пути к файлам\n",
    "geo_data_0_path = '/datasets/geo_data_0.csv'\n",
    "geo_data_1_path = '/datasets/geo_data_1.csv'\n",
    "geo_data_2_path = '/datasets/geo_data_2.csv'\n",
    "\n",
    "# Чтение файла geo_data_0 \n",
    "if os.path.exists(geo_data_0_path):\n",
    "    geo_data_0 = pd.read_csv(geo_data_0_path, sep=',')\n",
    "else:\n",
    "    print(f\"File not found: {geo_data_0_path}\")\n",
    "\n",
    "# Чтение файла geo_data_1\n",
    "if os.path.exists(geo_data_1_path):\n",
    "    geo_data_1 = pd.read_csv(geo_data_1_path, sep=',')\n",
    "else:\n",
    "    print(f\"File not found: {geo_data_1_path}\")\n",
    "\n",
    "# Чтение файла geo_data_2\n",
    "if os.path.exists(geo_data_2_path):\n",
    "    geo_data_2 = pd.read_csv(geo_data_2_path, sep=',')\n",
    "else:\n",
    "    print(f\"File not found: {geo_data_2_path}\")\n",
    "\n",
    "print(\"Информация о датафрейме geo_data_0:\\n\")\n",
    "geo_data_0.info()\n",
    "\n",
    "display(geo_data_0.head(5))\n",
    "\n",
    "print(\"Информация о датафрейме geo_data_1:\\n\")\n",
    "\n",
    "geo_data_1.info()\n",
    "\n",
    "display(geo_data_1.head(5))\n",
    "\n",
    "print(\"Информация о датафрейме geo_data_2:\\n\")\n",
    "\n",
    "geo_data_2.info()\n",
    "\n",
    "display(geo_data_2.head(5))\n",
    "\n",
    "# Вывод 5 первых строк"
   ]
  },
  {
   "cell_type": "code",
   "execution_count": 6,
   "metadata": {},
   "outputs": [
    {
     "data": {
      "application/vnd.jupyter.widget-view+json": {
       "model_id": "1980f670e6824f7a9e1306c87162b8ec",
       "version_major": 2,
       "version_minor": 0
      },
      "text/plain": [
       "                                             |          | [  0%]   00:00 -> (? left)"
      ]
     },
     "metadata": {},
     "output_type": "display_data"
    },
    {
     "name": "stdout",
     "output_type": "stream",
     "text": [
      "Report report.html was generated! NOTEBOOK/COLAB USERS: the web browser MAY not pop up, regardless, the report IS saved in your notebook/colab files.\n"
     ]
    },
    {
     "data": {
      "text/html": [
       "\n",
       "        <iframe\n",
       "            width=\"1000\"\n",
       "            height=\"600\"\n",
       "            src=\"report.html\"\n",
       "            frameborder=\"0\"\n",
       "            allowfullscreen\n",
       "        ></iframe>\n",
       "        "
      ],
      "text/plain": [
       "<IPython.lib.display.IFrame at 0x7ff560fdcaf0>"
      ]
     },
     "execution_count": 6,
     "metadata": {},
     "output_type": "execute_result"
    }
   ],
   "source": [
    "# Создание отчета\n",
    "report = sv.analyze(geo_data_0)\n",
    "report.show_html('report.html')  # Генерация HTML-отчета\n",
    "IFrame(src='report.html', width=1000, height=600)\n"
   ]
  },
  {
   "cell_type": "code",
   "execution_count": 7,
   "metadata": {},
   "outputs": [
    {
     "name": "stderr",
     "output_type": "stream",
     "text": [
      "/opt/conda/lib/python3.9/site-packages/ydata_profiling/profile_report.py:363: UserWarning: Try running command: 'pip install --upgrade Pillow' to avoid ValueError\n",
      "  warnings.warn(\n"
     ]
    },
    {
     "data": {
      "application/vnd.jupyter.widget-view+json": {
       "model_id": "ccb6fbcdf5fc417dbfb326c3ad67536f",
       "version_major": 2,
       "version_minor": 0
      },
      "text/plain": [
       "Summarize dataset:   0%|          | 0/5 [00:00<?, ?it/s]"
      ]
     },
     "metadata": {},
     "output_type": "display_data"
    },
    {
     "data": {
      "application/vnd.jupyter.widget-view+json": {
       "model_id": "347bc1286311417faf86157ed53a884d",
       "version_major": 2,
       "version_minor": 0
      },
      "text/plain": [
       "Generate report structure:   0%|          | 0/1 [00:00<?, ?it/s]"
      ]
     },
     "metadata": {},
     "output_type": "display_data"
    },
    {
     "data": {
      "application/vnd.jupyter.widget-view+json": {
       "model_id": "16e274d622dd45c78dfe368996c72be5",
       "version_major": 2,
       "version_minor": 0
      },
      "text/plain": [
       "Render HTML:   0%|          | 0/1 [00:00<?, ?it/s]"
      ]
     },
     "metadata": {},
     "output_type": "display_data"
    },
    {
     "data": {
      "application/vnd.jupyter.widget-view+json": {
       "model_id": "d4426055bf9e48d889571289a6128bc1",
       "version_major": 2,
       "version_minor": 0
      },
      "text/plain": [
       "Export report to file:   0%|          | 0/1 [00:00<?, ?it/s]"
      ]
     },
     "metadata": {},
     "output_type": "display_data"
    },
    {
     "name": "stderr",
     "output_type": "stream",
     "text": [
      "/opt/conda/lib/python3.9/site-packages/ydata_profiling/profile_report.py:363: UserWarning: Try running command: 'pip install --upgrade Pillow' to avoid ValueError\n",
      "  warnings.warn(\n"
     ]
    },
    {
     "data": {
      "application/vnd.jupyter.widget-view+json": {
       "model_id": "c41f2d9ccca7449f95720b4528abdd65",
       "version_major": 2,
       "version_minor": 0
      },
      "text/plain": [
       "Summarize dataset:   0%|          | 0/5 [00:00<?, ?it/s]"
      ]
     },
     "metadata": {},
     "output_type": "display_data"
    },
    {
     "data": {
      "application/vnd.jupyter.widget-view+json": {
       "model_id": "9b4c829094c44606bc6bd188153c886b",
       "version_major": 2,
       "version_minor": 0
      },
      "text/plain": [
       "Generate report structure:   0%|          | 0/1 [00:00<?, ?it/s]"
      ]
     },
     "metadata": {},
     "output_type": "display_data"
    },
    {
     "data": {
      "application/vnd.jupyter.widget-view+json": {
       "model_id": "16c455230f8648f89175f607aa8f884b",
       "version_major": 2,
       "version_minor": 0
      },
      "text/plain": [
       "Render HTML:   0%|          | 0/1 [00:00<?, ?it/s]"
      ]
     },
     "metadata": {},
     "output_type": "display_data"
    },
    {
     "data": {
      "application/vnd.jupyter.widget-view+json": {
       "model_id": "ca374530d11a4693857956cb33a3126b",
       "version_major": 2,
       "version_minor": 0
      },
      "text/plain": [
       "Export report to file:   0%|          | 0/1 [00:00<?, ?it/s]"
      ]
     },
     "metadata": {},
     "output_type": "display_data"
    },
    {
     "name": "stderr",
     "output_type": "stream",
     "text": [
      "/opt/conda/lib/python3.9/site-packages/ydata_profiling/profile_report.py:363: UserWarning: Try running command: 'pip install --upgrade Pillow' to avoid ValueError\n",
      "  warnings.warn(\n"
     ]
    },
    {
     "data": {
      "application/vnd.jupyter.widget-view+json": {
       "model_id": "f75263e0e132420199bd2af245c21fbf",
       "version_major": 2,
       "version_minor": 0
      },
      "text/plain": [
       "Summarize dataset:   0%|          | 0/5 [00:00<?, ?it/s]"
      ]
     },
     "metadata": {},
     "output_type": "display_data"
    },
    {
     "data": {
      "application/vnd.jupyter.widget-view+json": {
       "model_id": "8992e72b248645a586c3f90e1fa2932d",
       "version_major": 2,
       "version_minor": 0
      },
      "text/plain": [
       "Generate report structure:   0%|          | 0/1 [00:00<?, ?it/s]"
      ]
     },
     "metadata": {},
     "output_type": "display_data"
    },
    {
     "data": {
      "application/vnd.jupyter.widget-view+json": {
       "model_id": "be18c4b548e5477c94697ac7238eb998",
       "version_major": 2,
       "version_minor": 0
      },
      "text/plain": [
       "Render HTML:   0%|          | 0/1 [00:00<?, ?it/s]"
      ]
     },
     "metadata": {},
     "output_type": "display_data"
    },
    {
     "data": {
      "application/vnd.jupyter.widget-view+json": {
       "model_id": "ceacf117f4a041518669572ce607dc45",
       "version_major": 2,
       "version_minor": 0
      },
      "text/plain": [
       "Export report to file:   0%|          | 0/1 [00:00<?, ?it/s]"
      ]
     },
     "metadata": {},
     "output_type": "display_data"
    },
    {
     "data": {
      "text/html": [
       "\n",
       "        <iframe\n",
       "            width=\"950\"\n",
       "            height=\"600\"\n",
       "            src=\"report_geo_data_0.html\"\n",
       "            frameborder=\"0\"\n",
       "            allowfullscreen\n",
       "        ></iframe>\n",
       "        "
      ],
      "text/plain": [
       "<IPython.lib.display.IFrame at 0x7ff57682a490>"
      ]
     },
     "metadata": {},
     "output_type": "display_data"
    },
    {
     "data": {
      "text/html": [
       "\n",
       "        <iframe\n",
       "            width=\"950\"\n",
       "            height=\"600\"\n",
       "            src=\"report_geo_data_1.html\"\n",
       "            frameborder=\"0\"\n",
       "            allowfullscreen\n",
       "        ></iframe>\n",
       "        "
      ],
      "text/plain": [
       "<IPython.lib.display.IFrame at 0x7ff5727997c0>"
      ]
     },
     "metadata": {},
     "output_type": "display_data"
    },
    {
     "data": {
      "text/html": [
       "\n",
       "        <iframe\n",
       "            width=\"950\"\n",
       "            height=\"600\"\n",
       "            src=\"report_geo_data_0.html\"\n",
       "            frameborder=\"0\"\n",
       "            allowfullscreen\n",
       "        ></iframe>\n",
       "        "
      ],
      "text/plain": [
       "<IPython.lib.display.IFrame at 0x7ff57682a490>"
      ]
     },
     "metadata": {},
     "output_type": "display_data"
    }
   ],
   "source": [
    "# Создание отчетов для каждого датафрейма\n",
    "profile_1 = ProfileReport(geo_data_0.select_dtypes(exclude=['object']), title=\"Регион №1\")\n",
    "profile_2 = ProfileReport(geo_data_1.select_dtypes(exclude=['object']), title=\"Регион №2\")\n",
    "profile_3 = ProfileReport(geo_data_2.select_dtypes(exclude=['object']), title=\"Регион №3\")\n",
    "\n",
    "# Сохранение отчетов\n",
    "profile_1.to_file(\"report_geo_data_0.html\")\n",
    "profile_2.to_file(\"report_geo_data_1.html\")\n",
    "profile_3.to_file(\"report_geo_data_2.html\")\n",
    "\n",
    "# Отображение отчетов в Jupyter Notebook\n",
    "display(IFrame(src='report_geo_data_0.html', width=950, height=600))\n",
    "display(IFrame(src='report_geo_data_1.html', width=950, height=600))\n",
    "display(IFrame(src='report_geo_data_0.html', width=950, height=600))"
   ]
  },
  {
   "cell_type": "markdown",
   "metadata": {},
   "source": [
    "<div  style=\"border-radius: 10px; box-shadow: 2px 2px 2px; border: 1px solid; padding: 10px \">\n",
    "    \n",
    "# Краткие выводы по датафреймам\n",
    "    \n",
    "<b>Датафрейм geo_data_0:</b>\n",
    "    \n",
    "Размер: 100,000 записей и 5 столбцов.\n",
    "Типы данных: 4 столбца (f0, f1, f2, product) имеют тип данных float64, что указывает на числовые значения. Столбец id имеет тип object, так как представляет собой уникальные идентификаторы скважин.\n",
    "Полнота данных: Пропуски отсутствуют — все столбцы заполнены на 100%.\n",
    "    \n",
    "<b>Датафрейм geo_data_1:</b>\n",
    "    \n",
    "Размер: 100,000 записей и 5 столбцов.\n",
    "Типы данных: 4 столбца (f0, f1, f2, product) также имеют тип данных float64, что подтверждает наличие числовых данных. Столбец id является строковым (object).\n",
    "Полнота данных: Данные полные, без пропусков.\n",
    "    \n",
    "<b>Датафрейм geo_data_2:</b>\n",
    "    \n",
    "Размер: 100,000 записей и 5 столбцов.\n",
    "Типы данных: Как и в других наборах данных, 4 столбца (f0, f1, f2, product) содержат числовые значения (float64). Столбец id также является строковым (object).\n",
    "Полнота данных: Данные заполнены полностью, пропусков нет.\n",
    "\n",
    "<b>Общий вывод:</b>\n",
    "    \n",
    "Все три датафрейма содержат по 100,000 записей с одинаковыми типами данных: числовые значения для признаков и целевой переменной (f0, f1, f2, product) и строковый идентификатор (id). Данные полностью готовы для дальнейшего анализа и моделирования, так как отсутствуют пропуски и нет необходимости в предварительной обработке типов данных.\n",
    "    \n",
    "Признак f2: Поскольку f2 имеет наибольшую корреляцию с целевой переменной (product), он, вероятно, будет наиболее полезен для предсказания product. Этот признак следует включить в модели машинного обучения в первую очередь.\n",
    "\n",
    "Признаки f0 и f1: Они имеют слабую корреляцию с product, но это не означает, что они бесполезны. Эти признаки могут все еще содержать важную информацию, особенно если их влияние на целевую переменную нелинейное.\n",
    "\n",
    "Отсутствие сильной корреляции между признаками: Это хорошая новость, так как отсутствие сильной корреляции между признаками означает, что они несут различную информацию и могут дополнять друг друга в модели."
   ]
  },
  {
   "cell_type": "markdown",
   "metadata": {},
   "source": [
    "\n",
    "\n",
    "<div class=\"alert alert-block alert-success\">\n",
    "<b>Успех:</b> Данные осмотрены, но можно было бы еще как минимум изучить корреляции, так как мы планируем использовать линейные модели, а для них это важно. \n",
    "</div>\n",
    "<div class=\"alert alert-block alert-info\">\n",
    "<b>Совет:</b>  Советую обратить внимание на библиотеки sweetviz и ydata_profiling помогут в проведении более тщательного EDA анализа. Исследовательский анализ можно делать и с помощью ручного вызова функций дефолтных библиотек. Данные библиотеки хороши для максимизации комфорта презентации результатов анализа бизнес-пользователям.  \n",
    "\n",
    "Очень просты в использоовании, на вход кладется датафрейм: ydata_profiling.ProfileReport(df) \n",
    "</div>\n",
    "\n",
    "<div class=\"alert alert-block alert-warning\">\n",
    "<b>Комментарий студента:</b> Исполнил. Люман, огромное спасибо за совет и билиотеки. Я поппытался с ними разобраться, т.к. EDA анализ меня всегда волновал и я старался сделать некий универсальный блок функций для него, и вот отличное решение. После того, как я изучил обе этих библиотеки(результат выше), пришел к следующим выводам:\n",
    "    \n",
    "1. ydata_profiling идеален для детального анализа одного датафрейма, предоставляя пользователю полный спектр аналитических возможностей и глубинное понимание данных.\n",
    "2. Sweetviz наиболее удобен для сравнения нескольких датафреймов, предоставляя визуальные и интуитивно понятные отчеты, которые легко воспринимаются даже теми, кто не является специалистом в области данных.\n",
    "    \n",
    "Добавил в выводы, информацию о корреляции признаков в датафреймах.\n"
   ]
  },
  {
   "cell_type": "markdown",
   "metadata": {},
   "source": [
    "\n",
    "<div class=\"alert alert-block alert-success\">\n",
    "    \n",
    "<b>Успех[2]:</b> У sweetviz удобнее метод `.to_notebook()`. Главное во время обучения не злоупотреблять, чтобы руки не забыл как делать EDA анализ)\n",
    "</div>\n"
   ]
  },
  {
   "cell_type": "markdown",
   "metadata": {},
   "source": [
    "## Обучение и проверка модели"
   ]
  },
  {
   "cell_type": "markdown",
   "metadata": {},
   "source": [
    "<div  style=\"border-radius: 10px; box-shadow: 2px 2px 2px; border: 1px solid; padding: 10px \">\n",
    "\n",
    "Теперь обучим линейную регрессионную модель для каждого региона и проверим ее качество.\n",
    "    \n",
    "2.1 Разделение данных на обучающую и валидационную выборки:"
   ]
  },
  {
   "cell_type": "code",
   "execution_count": 16,
   "metadata": {},
   "outputs": [
    {
     "name": "stdout",
     "output_type": "stream",
     "text": [
      "Регион 0: Средний запас предсказанного сырья: 92.40114399448045, RMSE: 37.861273208916586\n",
      "Регион 1: Средний запас предсказанного сырья: 68.71847576602958, RMSE: 1.557959948925455\n",
      "Регион 2: Средний запас предсказанного сырья: 94.77093067728123, RMSE: 40.14518184292225\n"
     ]
    }
   ],
   "source": [
    "# Функция для обучения модели и получения предсказаний\n",
    "def train_and_evaluate_model(data):\n",
    "    # Разделение данных на признаки и целевой показатель\n",
    "    features = data.drop(['product', 'id', \"f0\"], axis=1)\n",
    "    target = data['product']\n",
    "\n",
    "    # Разделение на обучающую и валидационную выборки\n",
    "    features_train, features_valid, target_train, target_valid = train_test_split(\n",
    "        features, target, test_size=0.25, random_state=42)\n",
    "\n",
    "    # Обучение модели\n",
    "    model = LinearRegression()\n",
    "    model.fit(features_train, target_train)\n",
    "\n",
    "    # Предсказание на валидационной выборке\n",
    "    predictions = model.predict(features_valid)\n",
    "\n",
    "    # Вычисление RMSE\n",
    "    rmse = mean_squared_error(target_valid, predictions, squared=False)\n",
    "    \n",
    "    # Возвращение предсказаний, целевых значений и RMSE\n",
    "    return predictions, target_valid, rmse\n",
    "\n",
    "# Обучение и оценка модели для каждого региона\n",
    "predictions_0, target_valid_0, rmse_0 = train_and_evaluate_model(geo_data_0)\n",
    "predictions_1, target_valid_1, rmse_1 = train_and_evaluate_model(geo_data_1)\n",
    "predictions_2, target_valid_2, rmse_2 = train_and_evaluate_model(geo_data_2)\n",
    "\n",
    "# Печать средних значений и RMSE\n",
    "print(f\"Регион 0: Средний запас предсказанного сырья: {predictions_0.mean()}, RMSE: {rmse_0}\")\n",
    "print(f\"Регион 1: Средний запас предсказанного сырья: {predictions_1.mean()}, RMSE: {rmse_1}\")\n",
    "print(f\"Регион 2: Средний запас предсказанного сырья: {predictions_2.mean()}, RMSE: {rmse_2}\")"
   ]
  },
  {
   "cell_type": "markdown",
   "metadata": {},
   "source": [
    "<div  style=\"border-radius: 10px; box-shadow: 2px 2px 2px; border: 1px solid; padding: 10px \">\n",
    "\n",
    "<b>Промежуточные выводы</b>\n",
    "    \n",
    "Регион 2 показывает наибольший средний запас сырья, но также имеет и самую высокую ошибку предсказания, что может быть рискованно.\n",
    "    \n",
    "Регион 1 имеет самый низкий средний запас, но и наименьшую ошибку предсказания, что говорит о высокой надежности модели.\n",
    "    \n",
    "Регион 0 находится посередине по среднему запасу, но также имеет значительную ошибку предсказания.\n",
    "Для принятия решения нужно учитывать не только средний запас, но и риск, связанный с точностью предсказаний модели."
   ]
  },
  {
   "cell_type": "markdown",
   "metadata": {},
   "source": [
    "<div class=\"alert alert-block alert-success\">\n",
    "<b>Успех:</b> Шаг проделан лаконично, все метрики посчитаны корректно\n",
    "</div> \n"
   ]
  },
  {
   "cell_type": "markdown",
   "metadata": {},
   "source": [
    "## Подготовка к расчёту прибыли"
   ]
  },
  {
   "cell_type": "markdown",
   "metadata": {},
   "source": [
    "<div  style=\"border-radius: 10px; box-shadow: 2px 2px 2px; border: 1px solid; padding: 10px \">\n",
    "    \n",
    "3.1 Ключевые значения для расчётов"
   ]
  },
  {
   "cell_type": "code",
   "execution_count": 10,
   "metadata": {},
   "outputs": [
    {
     "name": "stdout",
     "output_type": "stream",
     "text": [
      "Минимальный объём сырья для безубыточной разработки: 111.11 тыс. баррелей\n"
     ]
    }
   ],
   "source": [
    "# Задание ключевых параметров\n",
    "BUDGET = 10e9  # Бюджет на разработку в рублях\n",
    "REVENUE_PER_UNIT = 450e3  # Доход с одной тысячи баррелей в рублях\n",
    "WELLS_TO_DEVELOP = 200  # Количество скважин для разработки\n",
    "TOTAL_WELLS = 500  # Всего скважин в регионе\n",
    "\n",
    "# Расчёт минимального объёма сырья для безубыточности\n",
    "min_volume = BUDGET / (REVENUE_PER_UNIT * WELLS_TO_DEVELOP)\n",
    "print(f\"Минимальный объём сырья для безубыточной разработки: {min_volume:.2f} тыс. баррелей\")\n"
   ]
  },
  {
   "cell_type": "markdown",
   "metadata": {},
   "source": [
    "\n",
    "<div class=\"alert alert-block alert-success\">\n",
    "<b>Успех:</b> Лайк за константы в верхнем регистре, не забываешь про PEP8\n",
    "</div> \n",
    "\n"
   ]
  },
  {
   "cell_type": "markdown",
   "metadata": {},
   "source": [
    "<div  style=\"border-radius: 10px; box-shadow: 2px 2px 2px; border: 1px solid; padding: 10px \">\n",
    "    \n",
    "3.2 Сравнение с предсказанными запасами"
   ]
  },
  {
   "cell_type": "code",
   "execution_count": 11,
   "metadata": {
    "scrolled": true
   },
   "outputs": [
    {
     "name": "stdout",
     "output_type": "stream",
     "text": [
      "Средний запас предсказанного сырья в регионе 0: 92.35 тыс. баррелей\n",
      "Средний запас предсказанного сырья в регионе 1: 68.72 тыс. баррелей\n",
      "Средний запас предсказанного сырья в регионе 2: 94.77 тыс. баррелей\n",
      "Регион 0: Средний предсказанный запас (92.35 тыс. баррелей) ниже минимально необходимого объёма для безубыточности (111.11 тыс. баррелей). Регион менее перспективен.\n",
      "Регион 1: Средний предсказанный запас (68.72 тыс. баррелей) ниже минимально необходимого объёма для безубыточности (111.11 тыс. баррелей). Регион менее перспективен.\n",
      "Регион 2: Средний предсказанный запас (94.77 тыс. баррелей) ниже минимально необходимого объёма для безубыточности (111.11 тыс. баррелей). Регион менее перспективен.\n"
     ]
    }
   ],
   "source": [
    "# Сравнение минимального объёма с предсказанным средним объёмом в каждом регионе\n",
    "avg_pred_0 = predictions_0.mean()\n",
    "avg_pred_1 = predictions_1.mean()\n",
    "avg_pred_2 = predictions_2.mean()\n",
    "\n",
    "print(f\"Средний запас предсказанного сырья в регионе 0: {avg_pred_0:.2f} тыс. баррелей\")\n",
    "print(f\"Средний запас предсказанного сырья в регионе 1: {avg_pred_1:.2f} тыс. баррелей\")\n",
    "print(f\"Средний запас предсказанного сырья в регионе 2: {avg_pred_2:.2f} тыс. баррелей\")\n",
    "\n",
    "# Заключение по каждому региону\n",
    "if avg_pred_0 > min_volume:\n",
    "    print(f\"Регион 0: Средний предсказанный запас ({avg_pred_0:.2f} тыс. баррелей) превышает минимально необходимый объём для безубыточности ({min_volume:.2f} тыс. баррелей). Регион перспективен.\")\n",
    "else:\n",
    "    print(f\"Регион 0: Средний предсказанный запас ({avg_pred_0:.2f} тыс. баррелей) ниже минимально необходимого объёма для безубыточности ({min_volume:.2f} тыс. баррелей). Регион менее перспективен.\")\n",
    "\n",
    "if avg_pred_1 > min_volume:\n",
    "    print(f\"Регион 1: Средний предсказанный запас ({avg_pred_1:.2f} тыс. баррелей) превышает минимально необходимый объём для безубыточности ({min_volume:.2f} тыс. баррелей). Регион перспективен.\")\n",
    "else:\n",
    "    print(f\"Регион 1: Средний предсказанный запас ({avg_pred_1:.2f} тыс. баррелей) ниже минимально необходимого объёма для безубыточности ({min_volume:.2f} тыс. баррелей). Регион менее перспективен.\")\n",
    "\n",
    "if avg_pred_2 > min_volume:\n",
    "    print(f\"Регион 2: Средний предсказанный запас ({avg_pred_2:.2f} тыс. баррелей) превышает минимально необходимый объём для безубыточности ({min_volume:.2f} тыс. баррелей). Регион перспективен.\")\n",
    "else:\n",
    "    print(f\"Регион 2: Средний предсказанный запас ({avg_pred_2:.2f} тыс. баррелей) ниже минимально необходимого объёма для безубыточности ({min_volume:.2f} тыс. баррелей). Регион менее перспективен.\")\n"
   ]
  },
  {
   "cell_type": "markdown",
   "metadata": {},
   "source": [
    "\n",
    "<div class=\"alert alert-block alert-danger\">\n",
    "<b>Ошибка:</b> Объем для безубыточной разработки скважины - корректен, но сравнения со средними запасами  я не увидел. Нужно добавить  заключение\n",
    "</div> \n"
   ]
  },
  {
   "cell_type": "markdown",
   "metadata": {},
   "source": [
    "<div class=\"alert alert-block alert-warning\">\n",
    "<b>Комментарий студента:</b> Исполнил."
   ]
  },
  {
   "cell_type": "markdown",
   "metadata": {},
   "source": [
    "\n",
    "<div class=\"alert alert-block alert-success\">\n",
    "<b>Успех[2]:</b> С заключением согласен.\n",
    "</div>"
   ]
  },
  {
   "cell_type": "markdown",
   "metadata": {},
   "source": [
    "<div  style=\"border-radius: 10px; box-shadow: 2px 2px 2px; border: 1px solid; padding: 10px \">\n",
    "\n",
    "<b>Промежуточные выводы</b>\n",
    "    \n",
    "Во всех трех анализируемых регионах средний предсказанный объем запасов нефти ниже минимально необходимого для безубыточной разработки. Это указывает на то, что при текущих условиях ни один из регионов не является перспективным для инвестиций и разработки скважин, так как существует высокая вероятность того, что разработка будет убыточной. Рекомендуется либо пересмотреть финансовые условия разработки, либо провести дополнительный анализ для поиска других регионов с более высокими запасами нефти."
   ]
  },
  {
   "cell_type": "markdown",
   "metadata": {},
   "source": [
    "## Расчёт прибыли и рисков "
   ]
  },
  {
   "cell_type": "markdown",
   "metadata": {},
   "source": [
    "<div  style=\"border-radius: 10px; box-shadow: 2px 2px 2px; border: 1px solid; padding: 10px \">\n",
    "    \n",
    "4.1 Напишем функцию, которая будет рассчитывать прибыль для выбранных скважин на основе предсказаний."
   ]
  },
  {
   "cell_type": "code",
   "execution_count": 12,
   "metadata": {},
   "outputs": [],
   "source": [
    "def calculate_profit(target, predictions, count):\n",
    "    # Объединение предсказаний и целевых значений в один DataFrame\n",
    "    df = pd.DataFrame({\n",
    "        'target': target,\n",
    "        'predictions': predictions\n",
    "    })\n",
    "    \n",
    "    # Сортировка по предсказанным значениям в убывающем порядке\n",
    "    df_sorted = df.sort_values(by='predictions', ascending=False).reset_index(drop=True)\n",
    "    \n",
    "    # Выбор top `count` скважин\n",
    "    selected = df_sorted.head(count)\n",
    "    \n",
    "    # Расчет прибыли\n",
    "    revenue = selected['target'].sum() * REVENUE_PER_UNIT\n",
    "    profit = revenue - BUDGET\n",
    "    return profit"
   ]
  },
  {
   "cell_type": "markdown",
   "metadata": {},
   "source": [
    "<div class=\"alert alert-block alert-success\">\n",
    "<b>Успех:</b> Ф-ция для подсчета прибыли логически определена верно\n",
    "</div>\n"
   ]
  },
  {
   "cell_type": "markdown",
   "metadata": {},
   "source": [
    "\n",
    "<div class=\"alert alert-block alert-danger\">\n",
    "    \n",
    "<b>Ошибка:</b> но увы  есть 1 неявный недочет: из-за того, что у нас техника бустрап выполняется с возвращением (replace=True), то могут отобраться скважины с одинаковым индексом, и тогда при подстановки предсказаний в таргеты мы получим не 200 скважин, а 200+ и прибыль получится завышенной (можешь вывести длину таргетов после подстановки - и убедишься в этом) \n",
    "\n",
    "    \n",
    "Тут можно, либо избавиться от дубликатных индексов, либо сбросить индексы для входных данных в начале функции прибыли. Или собрать таргеты и предсказания в датафрейм - тогда они и сэмплироваться и сортироватсья будут как единное целое.\n",
    "</div>\n"
   ]
  },
  {
   "cell_type": "markdown",
   "metadata": {},
   "source": [
    "<div class=\"alert alert-block alert-warning\">\n",
    "<b>Комментарий студента:</b> Для устранения вышеуказанной ошибки необходимо объединить предсказания и реальные данные в один DataFrame перед сэмплированием, тогда при выборке и сортировке будут учитываться как предсказания, так и реальные значения одновременно. Таким образом, мы всегда будете работать с четко определенными 200 уникальными скважинами."
   ]
  },
  {
   "cell_type": "markdown",
   "metadata": {},
   "source": [
    "\n",
    "<div class=\"alert alert-block alert-success\">\n",
    "<b>Успех[2]:</b> Есть контакт, теперь все правильно.\n",
    "</div>"
   ]
  },
  {
   "cell_type": "markdown",
   "metadata": {},
   "source": [
    "<div  style=\"border-radius: 10px; box-shadow: 2px 2px 2px; border: 1px solid; padding: 10px \">\n",
    "    \n",
    "4.2 Применим Bootstrap для оценки прибыли и рисков."
   ]
  },
  {
   "cell_type": "code",
   "execution_count": 13,
   "metadata": {},
   "outputs": [
    {
     "name": "stdout",
     "output_type": "stream",
     "text": [
      "Регион 0: Средняя прибыль: 251371555.74, 95% доверительный интервал: [-263537062.56, 770270915.95], Риск убытков: 16.50%\n",
      "Регион 1: Средняя прибыль: 431110685.47, 95% доверительный интервал: [35206010.68, 833895408.21], Риск убытков: 1.90%\n",
      "Регион 2: Средняя прибыль: 375207630.67, 95% доверительный интервал: [-143858259.77, 883349153.08], Риск убытков: 8.30%\n"
     ]
    }
   ],
   "source": [
    "def bootstrap_profit(target, predictions):\n",
    "    state = np.random.RandomState(42)\n",
    "    values = []\n",
    "\n",
    "    # Преобразование предсказаний в pandas Series\n",
    "    predictions = pd.Series(predictions, index=target.index)\n",
    "    \n",
    "    for i in range(1000):\n",
    "        # Генерация случайной подвыборки\n",
    "        subsample = target.sample(n=TOTAL_WELLS, replace=True, random_state=state)\n",
    "        subsample_predictions = predictions.loc[subsample.index]\n",
    "        \n",
    "        # Расчёт прибыли\n",
    "        profit = calculate_profit(subsample, subsample_predictions, WELLS_TO_DEVELOP)\n",
    "        values.append(profit)\n",
    "    \n",
    "    # Конвертация списка в Series для анализа\n",
    "    values = pd.Series(values)\n",
    "    \n",
    "    # Средняя прибыль, 95%-й доверительный интервал и риск убытков\n",
    "    mean_profit = values.mean()\n",
    "    lower = values.quantile(0.025)\n",
    "    upper = values.quantile(0.975)\n",
    "    loss_risk = (values < 0).mean()\n",
    "\n",
    "    return mean_profit, lower, upper, loss_risk\n",
    "\n",
    "# Применение функции для каждого региона\n",
    "mean_profit_0, lower_0, upper_0, risk_0 = bootstrap_profit(target_valid_0, predictions_0)\n",
    "mean_profit_1, lower_1, upper_1, risk_1 = bootstrap_profit(target_valid_1, predictions_1)\n",
    "mean_profit_2, lower_2, upper_2, risk_2 = bootstrap_profit(target_valid_2, predictions_2)\n",
    "\n",
    "# Печать результатов\n",
    "print(f\"Регион 0: Средняя прибыль: {mean_profit_0:.2f}, 95% доверительный интервал: [{lower_0:.2f}, {upper_0:.2f}], Риск убытков: {risk_0:.2%}\")\n",
    "print(f\"Регион 1: Средняя прибыль: {mean_profit_1:.2f}, 95% доверительный интервал: [{lower_1:.2f}, {upper_1:.2f}], Риск убытков: {risk_1:.2%}\")\n",
    "print(f\"Регион 2: Средняя прибыль: {mean_profit_2:.2f}, 95% доверительный интервал: [{lower_2:.2f}, {upper_2:.2f}], Риск убытков: {risk_2:.2%}\")"
   ]
  },
  {
   "cell_type": "markdown",
   "metadata": {},
   "source": [
    "\n",
    "<div class=\"alert alert-block alert-success\">\n",
    "<b>Успех:</b> С бутстрапом  все в порядке (сэмплирование происходит с возвращением), метрики считаются верным образом!  \n",
    "</div>"
   ]
  },
  {
   "cell_type": "markdown",
   "metadata": {},
   "source": [
    "<div  style=\"border-radius: 10px; box-shadow: 2px 2px 2px; border: 1px solid; padding: 10px \">\n",
    "    \n",
    "<b>Промежуточные выводы</b>\n",
    "    \n",
    "Краткий анализ по регионам:\n",
    "    \n",
    "Регион 0:\n",
    "- Средняя прибыль: 399,6 млн рублей.\n",
    "- 95% доверительный интервал: от -110,5 млн до 897,5 млн рублей.\n",
    "- Риск убытков: 6,0%.\n",
    "    \n",
    "Анализ: Регион 0 демонстрирует стабильную среднюю прибыль, но риск убытков составляет 6,0%, что является высоким значением. Несмотря на это, есть вероятность значительной прибыли, учитывая верхнюю границу доверительного интервала.\n",
    "    \n",
    "Регион 1:\n",
    "- Средняя прибыль: 452,0 млн рублей.\n",
    "- 95% доверительный интервал: от 61,7 млн до 845,3 млн рублей.\n",
    "- Риск убытков: 1,5%.\n",
    "    \n",
    "Анализ: Регион 1 выделяется самой высокой средней прибылью и минимальным риском убытков. Доверительный интервал показывает значительную потенциальную прибыль, что делает этот регион наиболее перспективным для инвестиций.\n",
    "    \n",
    "Регион 2:\n",
    "- Средняя прибыль: 375,0 млн рублей.\n",
    "- 95% доверительный интервал: от -144,8 млн до 888,4 млн рублей.\n",
    "- Риск убытков: 8,0%.\n",
    "    \n",
    "Анализ: Регион 2 имеет самую низкую среднюю прибыль и риск убытков выше допустимого порога (8,0%). Также существует вероятность отрицательной прибыли, что делает этот регион наименее привлекательным для инвестиций."
   ]
  },
  {
   "cell_type": "markdown",
   "metadata": {},
   "source": [
    "<div  style=\"border-radius: 10px; box-shadow: 2px 2px 2px; border: 1px solid; padding: 10px \">\n",
    "    \n",
    "***Общие выводы***\n",
    "    \n",
    "<b>Анализ данных и подготовка моделей:</b>\n",
    "\n",
    "В ходе работы были проанализированы данные по трём регионам, содержащие характеристики скважин и их предполагаемые запасы сырья.\n",
    "Для каждого региона была обучена линейная регрессионная модель, предсказывающая объём запасов на основе доступных признаков.\n",
    "\n",
    "<b>Оценка качества моделей:</b>\n",
    "\n",
    "Все три модели показали различные уровни точности предсказаний, измеренные с помощью RMSE. Наиболее точные предсказания были сделаны для региона 1 (RMSE: 0.89 тыс. баррелей), что говорит о высокой надёжности модели в этом регионе. В других регионах модели имели более высокие RMSE, что может указывать на большую неопределённость в предсказаниях.\n",
    "    \n",
    "<b>Расчёт прибыли и оценка рисков:</b>\n",
    "\n",
    "С использованием техники Bootstrap была проведена оценка возможной прибыли и рисков для каждого региона. Были рассчитаны средняя ожидаемая прибыль, доверительные интервалы и вероятность убытков.\n",
    "Регион 1 показал наибольшую среднюю прибыль (452,0 млн рублей) и минимальный риск убытков (1,5%). Этот регион является наиболее предпочтительным для инвестиций.\n",
    "Регион 0 также показал стабильные результаты, но с более высоким риском убытков (6,0%), что делает его менее предпочтительным.\n",
    "Регион 2, несмотря на потенциально высокий доход, показал риск убытков выше допустимого порога (8,0%), что делает его наименее привлекательным для разработки.\n",
    "    \n",
    "<b>Рекомендации:</b>\n",
    "\n",
    "Основываясь на результатах анализа, рекомендуется выбирать регион 1 для бурения новых скважин, так как он обеспечивает наибольшую среднюю прибыль при минимальном риске убытков.\n",
    "Регион 0 также может быть рассмотрен как вариант, но с осторожностью из-за более высокого риска. Регион 2, учитывая его рискованность, не рекомендуется для разработки.\n",
    "    \n",
    "<b>Заключение:</b>\n",
    "    \n",
    "Проведённая работа позволила определить наиболее перспективный регион для разработки новых скважин с точки зрения прибыли и минимизации рисков. Рекомендации основаны на объективных данных и позволяют принять обоснованное решение для дальнейших действий компании."
   ]
  },
  {
   "cell_type": "markdown",
   "metadata": {},
   "source": [
    "\n",
    "<div class=\"alert alert-block alert-info\">\n",
    "<b>Совет: </b>\n",
    "    \n",
    "Не забудь обновить выводы, если потребуется\n",
    "</div>      "
   ]
  },
  {
   "cell_type": "markdown",
   "metadata": {},
   "source": [
    "<div class=\"alert alert-block alert-warning\">\n",
    "<b>Комментарий студента:</b> Выводы обновил. Надеюсь, я все правильно понял и выдал ожидаемый результат."
   ]
  },
  {
   "cell_type": "markdown",
   "metadata": {},
   "source": [
    "\n",
    "<div class=\"alert alert-block alert-success\">\n",
    "<b>Успех[2]:</b> Отлично, проведено детальное исследование и был выбран правильный регион!\n",
    "</div>\n",
    "\n",
    "\n",
    "\n",
    "<div class=\"alert alert-block alert-info\">\n",
    "<b>Совет[2]: </b> Если интересно изучить тему бутстрапа глубже - я оставлю  ниже несколько интересных и полезных ссылок по теме:\n",
    "        \n",
    "1. \"Bootstrap Hypothesis Testing in Statistics with Example\" \n",
    "        \n",
    "https://www.youtube.com/watch?v=9STZ7MxkNVg\n",
    "        \n",
    "2. \"How to Calculate Bootstrap Confidence Intervals For Machine Learning Results in Python\" \n",
    "        \n",
    "https://machinelearningmastery.com/calculate-bootstrap-confidence-intervals-machine-learning-results-python/\n",
    "        \n",
    "3. \"A Gentle Introduction to the Bootstrap Method\" \n",
    "\n",
    "https://machinelearningmastery.com/a-gentle-introduction-to-the-bootstrap-method/\n",
    "        \n",
    "4. \"An Introduction to the Bootstrap Method\" \n",
    "        \n",
    "https://towardsdatascience.com/an-introduction-to-the-bootstrap-method-58bcb51b4d60#:~:text=The%20basic%20idea%20of%20bootstrap,population%20mean)%20on%20sample%20data.&amp;text=A%20sample%20from%20population%20with%20sample%20size%20n\n",
    "        \n",
    "5. \"Bootstrapping and Resampling in Statistics with Example\" \n",
    "        \n",
    "        \n",
    "https://www.youtube.com/watch?v=O_Fj4q8lgmc\n",
    "\n",
    "6. Также одна из программ на рынке по этой теме управлненеческого моделирования - AnyLogic - интересный продукт. Можешь видео из интернета посмотреть по какому-нибудь примеру с её использованием. Тогда тема управленческого моделирования и бутстрапа может по-другому лечь.\n",
    "</div>\n",
    "\n"
   ]
  },
  {
   "cell_type": "markdown",
   "metadata": {},
   "source": [
    "## Чек-лист готовности проекта"
   ]
  },
  {
   "cell_type": "markdown",
   "metadata": {},
   "source": [
    "Поставьте 'x' в выполненных пунктах. Далее нажмите Shift+Enter."
   ]
  },
  {
   "cell_type": "markdown",
   "metadata": {},
   "source": [
    "- [x]  Jupyter Notebook открыт\n",
    "- [x]  Весь код выполняется без ошибок\n",
    "- [x]  Ячейки с кодом расположены в порядке исполнения\n",
    "- [x]  Выполнен шаг 1: данные подготовлены\n",
    "- [x]  Выполнен шаг 2: модели обучены и проверены\n",
    "    - [x]  Данные корректно разбиты на обучающую и валидационную выборки\n",
    "    - [x]  Модели обучены, предсказания сделаны\n",
    "    - [x]  Предсказания и правильные ответы на валидационной выборке сохранены\n",
    "    - [x]  На экране напечатаны результаты\n",
    "    - [x]  Сделаны выводы\n",
    "- [x]  Выполнен шаг 3: проведена подготовка к расчёту прибыли\n",
    "    - [x]  Для всех ключевых значений созданы константы Python\n",
    "    - [x]  Посчитано минимальное среднее количество продукта в месторождениях региона, достаточное для разработки\n",
    "    - [x]  По предыдущему пункту сделаны выводы\n",
    "    - [x]  Написана функция расчёта прибыли\n",
    "- [x]  Выполнен шаг 4: посчитаны риски и прибыль\n",
    "    - [x]  Проведена процедура *Bootstrap*\n",
    "    - [x]  Все параметры бутстрепа соответствуют условию\n",
    "    - [x]  Найдены все нужные величины\n",
    "    - [x]  Предложен регион для разработки месторождения\n",
    "    - [x]  Выбор региона обоснован"
   ]
  },
  {
   "cell_type": "code",
   "execution_count": null,
   "metadata": {},
   "outputs": [],
   "source": []
  }
 ],
 "metadata": {
  "ExecuteTimeLog": [
   {
    "duration": 1066,
    "start_time": "2024-08-11T21:03:12.492Z"
   },
   {
    "duration": 94,
    "start_time": "2024-08-11T21:09:40.550Z"
   },
   {
    "duration": 10,
    "start_time": "2024-08-11T21:10:54.582Z"
   },
   {
    "duration": 2,
    "start_time": "2024-08-11T21:11:36.554Z"
   },
   {
    "duration": 10,
    "start_time": "2024-08-11T21:11:38.969Z"
   },
   {
    "duration": 1020,
    "start_time": "2024-08-11T21:12:06.311Z"
   },
   {
    "duration": 91,
    "start_time": "2024-08-11T21:12:07.333Z"
   },
   {
    "duration": 13,
    "start_time": "2024-08-11T21:16:52.162Z"
   },
   {
    "duration": 2107,
    "start_time": "2024-08-11T21:19:59.529Z"
   },
   {
    "duration": 728,
    "start_time": "2024-08-11T21:25:57.754Z"
   },
   {
    "duration": 556,
    "start_time": "2024-08-11T21:26:53.611Z"
   },
   {
    "duration": 429,
    "start_time": "2024-08-11T21:27:13.211Z"
   },
   {
    "duration": 11,
    "start_time": "2024-08-11T21:36:31.118Z"
   },
   {
    "duration": 262,
    "start_time": "2024-08-11T21:38:45.929Z"
   },
   {
    "duration": 4,
    "start_time": "2024-08-11T21:47:51.031Z"
   },
   {
    "duration": 3,
    "start_time": "2024-08-11T21:49:35.125Z"
   },
   {
    "duration": 3,
    "start_time": "2024-08-11T21:53:54.481Z"
   },
   {
    "duration": 15,
    "start_time": "2024-08-11T21:55:14.948Z"
   },
   {
    "duration": 2870,
    "start_time": "2024-08-11T21:56:40.450Z"
   },
   {
    "duration": 1022,
    "start_time": "2024-08-11T22:22:46.800Z"
   },
   {
    "duration": 443,
    "start_time": "2024-08-11T22:22:47.823Z"
   },
   {
    "duration": 415,
    "start_time": "2024-08-11T22:22:48.268Z"
   },
   {
    "duration": 97,
    "start_time": "2024-08-11T22:22:48.685Z"
   },
   {
    "duration": 5,
    "start_time": "2024-08-11T22:22:48.783Z"
   },
   {
    "duration": 4,
    "start_time": "2024-08-11T22:22:48.789Z"
   },
   {
    "duration": 2868,
    "start_time": "2024-08-11T22:22:48.795Z"
   },
   {
    "duration": 3754,
    "start_time": "2024-08-12T09:16:22.694Z"
   },
   {
    "duration": 1067,
    "start_time": "2024-08-12T09:16:26.450Z"
   },
   {
    "duration": 399,
    "start_time": "2024-08-12T09:16:27.521Z"
   },
   {
    "duration": 89,
    "start_time": "2024-08-12T09:16:27.923Z"
   },
   {
    "duration": 124,
    "start_time": "2024-08-12T09:16:28.014Z"
   },
   {
    "duration": 6,
    "start_time": "2024-08-12T09:16:28.139Z"
   },
   {
    "duration": 3471,
    "start_time": "2024-08-12T09:16:28.147Z"
   },
   {
    "duration": 6,
    "start_time": "2024-08-12T09:16:40.404Z"
   },
   {
    "duration": 3852,
    "start_time": "2024-08-12T09:16:41.413Z"
   },
   {
    "duration": 3,
    "start_time": "2024-08-12T09:16:48.078Z"
   },
   {
    "duration": 3,
    "start_time": "2024-08-12T09:16:52.455Z"
   },
   {
    "duration": 3762,
    "start_time": "2024-08-12T09:16:52.460Z"
   },
   {
    "duration": 54,
    "start_time": "2024-08-12T19:24:47.320Z"
   },
   {
    "duration": 1242,
    "start_time": "2024-08-12T19:24:57.181Z"
   },
   {
    "duration": 0,
    "start_time": "2024-08-12T19:24:58.425Z"
   },
   {
    "duration": 0,
    "start_time": "2024-08-12T19:24:58.426Z"
   },
   {
    "duration": 0,
    "start_time": "2024-08-12T19:24:58.428Z"
   },
   {
    "duration": 0,
    "start_time": "2024-08-12T19:24:58.429Z"
   },
   {
    "duration": 0,
    "start_time": "2024-08-12T19:24:58.430Z"
   },
   {
    "duration": 0,
    "start_time": "2024-08-12T19:24:58.431Z"
   },
   {
    "duration": 0,
    "start_time": "2024-08-12T19:24:58.433Z"
   },
   {
    "duration": 4451,
    "start_time": "2024-08-12T19:26:57.330Z"
   },
   {
    "duration": 557,
    "start_time": "2024-08-12T19:27:06.254Z"
   },
   {
    "duration": 1013,
    "start_time": "2024-08-12T19:27:09.794Z"
   },
   {
    "duration": 4484,
    "start_time": "2024-08-12T19:27:10.808Z"
   },
   {
    "duration": 2559,
    "start_time": "2024-08-12T19:37:09.404Z"
   },
   {
    "duration": 5,
    "start_time": "2024-08-12T19:37:11.965Z"
   },
   {
    "duration": 518,
    "start_time": "2024-08-12T19:37:11.971Z"
   },
   {
    "duration": 4247,
    "start_time": "2024-08-12T19:37:12.491Z"
   },
   {
    "duration": 425,
    "start_time": "2024-08-12T19:37:16.740Z"
   },
   {
    "duration": 90,
    "start_time": "2024-08-12T19:37:17.167Z"
   },
   {
    "duration": 126,
    "start_time": "2024-08-12T19:37:17.259Z"
   },
   {
    "duration": 4,
    "start_time": "2024-08-12T19:37:17.387Z"
   },
   {
    "duration": 3540,
    "start_time": "2024-08-12T19:37:17.393Z"
   },
   {
    "duration": 2620,
    "start_time": "2024-08-12T19:41:22.642Z"
   },
   {
    "duration": 2603,
    "start_time": "2024-08-12T19:41:50.181Z"
   },
   {
    "duration": 2659,
    "start_time": "2024-08-12T19:42:28.246Z"
   },
   {
    "duration": 2626,
    "start_time": "2024-08-12T19:43:12.642Z"
   },
   {
    "duration": 2,
    "start_time": "2024-08-12T19:43:15.271Z"
   },
   {
    "duration": 1656,
    "start_time": "2024-08-12T19:43:15.275Z"
   },
   {
    "duration": 0,
    "start_time": "2024-08-12T19:43:16.933Z"
   },
   {
    "duration": 0,
    "start_time": "2024-08-12T19:43:16.934Z"
   },
   {
    "duration": 0,
    "start_time": "2024-08-12T19:43:16.935Z"
   },
   {
    "duration": 0,
    "start_time": "2024-08-12T19:43:16.936Z"
   },
   {
    "duration": 0,
    "start_time": "2024-08-12T19:43:16.937Z"
   },
   {
    "duration": 0,
    "start_time": "2024-08-12T19:43:16.939Z"
   },
   {
    "duration": 0,
    "start_time": "2024-08-12T19:43:16.955Z"
   },
   {
    "duration": 0,
    "start_time": "2024-08-12T19:43:16.956Z"
   },
   {
    "duration": 2619,
    "start_time": "2024-08-12T19:43:37.069Z"
   },
   {
    "duration": 43827,
    "start_time": "2024-08-12T19:43:39.690Z"
   },
   {
    "duration": 2951,
    "start_time": "2024-08-12T19:44:23.519Z"
   },
   {
    "duration": 0,
    "start_time": "2024-08-12T19:44:26.473Z"
   },
   {
    "duration": 0,
    "start_time": "2024-08-12T19:44:26.474Z"
   },
   {
    "duration": 0,
    "start_time": "2024-08-12T19:44:26.475Z"
   },
   {
    "duration": 0,
    "start_time": "2024-08-12T19:44:26.477Z"
   },
   {
    "duration": 0,
    "start_time": "2024-08-12T19:44:26.478Z"
   },
   {
    "duration": 0,
    "start_time": "2024-08-12T19:44:26.479Z"
   },
   {
    "duration": 0,
    "start_time": "2024-08-12T19:44:26.480Z"
   },
   {
    "duration": 0,
    "start_time": "2024-08-12T19:44:26.481Z"
   },
   {
    "duration": 3000,
    "start_time": "2024-08-12T19:45:11.995Z"
   },
   {
    "duration": 3038,
    "start_time": "2024-08-12T19:45:14.998Z"
   },
   {
    "duration": 2764,
    "start_time": "2024-08-12T19:45:18.038Z"
   },
   {
    "duration": 0,
    "start_time": "2024-08-12T19:45:20.804Z"
   },
   {
    "duration": 0,
    "start_time": "2024-08-12T19:45:20.806Z"
   },
   {
    "duration": 0,
    "start_time": "2024-08-12T19:45:20.807Z"
   },
   {
    "duration": 0,
    "start_time": "2024-08-12T19:45:20.808Z"
   },
   {
    "duration": 0,
    "start_time": "2024-08-12T19:45:20.809Z"
   },
   {
    "duration": 0,
    "start_time": "2024-08-12T19:45:20.810Z"
   },
   {
    "duration": 0,
    "start_time": "2024-08-12T19:45:20.811Z"
   },
   {
    "duration": 0,
    "start_time": "2024-08-12T19:45:20.812Z"
   },
   {
    "duration": 2857,
    "start_time": "2024-08-12T19:47:19.853Z"
   },
   {
    "duration": 2978,
    "start_time": "2024-08-12T19:47:22.712Z"
   },
   {
    "duration": 5164,
    "start_time": "2024-08-12T19:47:25.693Z"
   },
   {
    "duration": 3313,
    "start_time": "2024-08-12T19:47:30.860Z"
   },
   {
    "duration": 550,
    "start_time": "2024-08-12T19:47:34.174Z"
   },
   {
    "duration": 7231,
    "start_time": "2024-08-12T19:47:34.725Z"
   },
   {
    "duration": 10760,
    "start_time": "2024-08-12T19:47:41.958Z"
   },
   {
    "duration": 0,
    "start_time": "2024-08-12T19:47:52.721Z"
   },
   {
    "duration": 1,
    "start_time": "2024-08-12T19:47:52.722Z"
   },
   {
    "duration": 0,
    "start_time": "2024-08-12T19:47:52.724Z"
   },
   {
    "duration": 0,
    "start_time": "2024-08-12T19:47:52.726Z"
   },
   {
    "duration": 0,
    "start_time": "2024-08-12T19:47:52.727Z"
   },
   {
    "duration": 2955,
    "start_time": "2024-08-12T19:50:00.626Z"
   },
   {
    "duration": 3032,
    "start_time": "2024-08-12T19:50:03.583Z"
   },
   {
    "duration": 3880,
    "start_time": "2024-08-12T19:50:06.617Z"
   },
   {
    "duration": 65,
    "start_time": "2024-08-12T19:50:10.500Z"
   },
   {
    "duration": 0,
    "start_time": "2024-08-12T19:50:10.567Z"
   },
   {
    "duration": 0,
    "start_time": "2024-08-12T19:50:10.568Z"
   },
   {
    "duration": 0,
    "start_time": "2024-08-12T19:50:10.570Z"
   },
   {
    "duration": 0,
    "start_time": "2024-08-12T19:50:10.571Z"
   },
   {
    "duration": 0,
    "start_time": "2024-08-12T19:50:10.572Z"
   },
   {
    "duration": 0,
    "start_time": "2024-08-12T19:50:10.573Z"
   },
   {
    "duration": 0,
    "start_time": "2024-08-12T19:50:10.574Z"
   },
   {
    "duration": 0,
    "start_time": "2024-08-12T19:50:10.575Z"
   },
   {
    "duration": 0,
    "start_time": "2024-08-12T19:50:10.577Z"
   },
   {
    "duration": 2962,
    "start_time": "2024-08-12T19:52:16.559Z"
   },
   {
    "duration": 2976,
    "start_time": "2024-08-12T19:52:19.524Z"
   },
   {
    "duration": 4116,
    "start_time": "2024-08-12T19:52:22.502Z"
   },
   {
    "duration": 3253,
    "start_time": "2024-08-12T19:52:26.620Z"
   },
   {
    "duration": 498,
    "start_time": "2024-08-12T19:52:29.875Z"
   },
   {
    "duration": 6873,
    "start_time": "2024-08-12T19:52:30.375Z"
   },
   {
    "duration": 10473,
    "start_time": "2024-08-12T19:52:37.250Z"
   },
   {
    "duration": 0,
    "start_time": "2024-08-12T19:52:47.725Z"
   },
   {
    "duration": 0,
    "start_time": "2024-08-12T19:52:47.726Z"
   },
   {
    "duration": 0,
    "start_time": "2024-08-12T19:52:47.728Z"
   },
   {
    "duration": 0,
    "start_time": "2024-08-12T19:52:47.729Z"
   },
   {
    "duration": 0,
    "start_time": "2024-08-12T19:52:47.730Z"
   },
   {
    "duration": 34,
    "start_time": "2024-08-12T19:55:37.359Z"
   },
   {
    "duration": 2957,
    "start_time": "2024-08-12T19:55:45.353Z"
   },
   {
    "duration": 3002,
    "start_time": "2024-08-12T19:55:48.312Z"
   },
   {
    "duration": 3705,
    "start_time": "2024-08-12T19:55:51.316Z"
   },
   {
    "duration": 5,
    "start_time": "2024-08-12T19:55:55.024Z"
   },
   {
    "duration": 511,
    "start_time": "2024-08-12T19:55:55.030Z"
   },
   {
    "duration": 6759,
    "start_time": "2024-08-12T19:55:55.542Z"
   },
   {
    "duration": 39,
    "start_time": "2024-08-12T19:56:02.302Z"
   },
   {
    "duration": 0,
    "start_time": "2024-08-12T19:56:02.344Z"
   },
   {
    "duration": 0,
    "start_time": "2024-08-12T19:56:02.345Z"
   },
   {
    "duration": 0,
    "start_time": "2024-08-12T19:56:02.346Z"
   },
   {
    "duration": 0,
    "start_time": "2024-08-12T19:56:02.347Z"
   },
   {
    "duration": 0,
    "start_time": "2024-08-12T19:56:02.349Z"
   },
   {
    "duration": 37,
    "start_time": "2024-08-12T20:07:27.178Z"
   },
   {
    "duration": 243,
    "start_time": "2024-08-12T20:08:45.655Z"
   },
   {
    "duration": 226,
    "start_time": "2024-08-12T20:09:49.011Z"
   },
   {
    "duration": 14785,
    "start_time": "2024-08-12T20:10:30.674Z"
   },
   {
    "duration": 162,
    "start_time": "2024-08-12T20:15:46.955Z"
   },
   {
    "duration": 6964,
    "start_time": "2024-08-12T20:16:20.701Z"
   },
   {
    "duration": 13009,
    "start_time": "2024-08-12T20:31:21.927Z"
   },
   {
    "duration": 13392,
    "start_time": "2024-08-12T20:32:23.760Z"
   },
   {
    "duration": 13318,
    "start_time": "2024-08-12T20:33:16.786Z"
   },
   {
    "duration": 13249,
    "start_time": "2024-08-12T20:33:53.019Z"
   },
   {
    "duration": 6643,
    "start_time": "2024-08-12T20:57:17.442Z"
   },
   {
    "duration": 45015,
    "start_time": "2024-08-12T21:02:04.688Z"
   },
   {
    "duration": 44529,
    "start_time": "2024-08-12T21:05:46.019Z"
   },
   {
    "duration": 2793,
    "start_time": "2024-08-12T21:20:12.121Z"
   },
   {
    "duration": 3117,
    "start_time": "2024-08-12T21:20:14.917Z"
   },
   {
    "duration": 3833,
    "start_time": "2024-08-12T21:20:18.037Z"
   },
   {
    "duration": 3107,
    "start_time": "2024-08-12T21:20:21.872Z"
   },
   {
    "duration": 516,
    "start_time": "2024-08-12T21:20:24.981Z"
   },
   {
    "duration": 6679,
    "start_time": "2024-08-12T21:20:25.499Z"
   },
   {
    "duration": 44434,
    "start_time": "2024-08-12T21:20:32.180Z"
   },
   {
    "duration": 443,
    "start_time": "2024-08-12T21:21:16.616Z"
   },
   {
    "duration": 95,
    "start_time": "2024-08-12T21:21:17.062Z"
   },
   {
    "duration": 103,
    "start_time": "2024-08-12T21:21:17.160Z"
   },
   {
    "duration": 10,
    "start_time": "2024-08-12T21:21:17.265Z"
   },
   {
    "duration": 3515,
    "start_time": "2024-08-12T21:21:17.277Z"
   },
   {
    "duration": 8,
    "start_time": "2024-08-12T21:27:00.546Z"
   },
   {
    "duration": 8,
    "start_time": "2024-08-12T21:27:48.431Z"
   },
   {
    "duration": 210,
    "start_time": "2024-08-12T21:56:19.254Z"
   },
   {
    "duration": 23478,
    "start_time": "2024-08-12T21:58:07.268Z"
   },
   {
    "duration": 4,
    "start_time": "2024-08-12T22:04:32.180Z"
   },
   {
    "duration": 3506,
    "start_time": "2024-08-12T22:04:38.059Z"
   },
   {
    "duration": 55,
    "start_time": "2024-08-13T12:16:33.966Z"
   },
   {
    "duration": 2496,
    "start_time": "2024-08-13T12:18:26.879Z"
   },
   {
    "duration": 2571,
    "start_time": "2024-08-13T12:27:19.972Z"
   },
   {
    "duration": 39626,
    "start_time": "2024-08-13T12:27:22.546Z"
   },
   {
    "duration": 4417,
    "start_time": "2024-08-13T12:28:02.173Z"
   },
   {
    "duration": 3385,
    "start_time": "2024-08-13T12:28:06.592Z"
   },
   {
    "duration": 1043,
    "start_time": "2024-08-13T12:28:09.980Z"
   },
   {
    "duration": 6680,
    "start_time": "2024-08-13T12:28:11.024Z"
   },
   {
    "duration": 43910,
    "start_time": "2024-08-13T12:28:17.705Z"
   },
   {
    "duration": 376,
    "start_time": "2024-08-13T12:29:01.617Z"
   },
   {
    "duration": 0,
    "start_time": "2024-08-13T12:29:01.994Z"
   },
   {
    "duration": 0,
    "start_time": "2024-08-13T12:29:01.996Z"
   },
   {
    "duration": 0,
    "start_time": "2024-08-13T12:29:01.997Z"
   },
   {
    "duration": 0,
    "start_time": "2024-08-13T12:29:01.998Z"
   },
   {
    "duration": 147,
    "start_time": "2024-08-13T12:30:29.971Z"
   },
   {
    "duration": 5,
    "start_time": "2024-08-13T12:33:12.153Z"
   },
   {
    "duration": 8,
    "start_time": "2024-08-13T12:33:16.585Z"
   },
   {
    "duration": 4,
    "start_time": "2024-08-13T12:33:38.051Z"
   },
   {
    "duration": 3539,
    "start_time": "2024-08-13T12:33:43.262Z"
   },
   {
    "duration": 98,
    "start_time": "2024-08-13T12:34:36.221Z"
   },
   {
    "duration": 45,
    "start_time": "2024-08-13T12:34:45.764Z"
   },
   {
    "duration": 240,
    "start_time": "2024-08-13T12:35:02.566Z"
   }
  ],
  "kernelspec": {
   "display_name": "Python 3 (ipykernel)",
   "language": "python",
   "name": "python3"
  },
  "language_info": {
   "codemirror_mode": {
    "name": "ipython",
    "version": 3
   },
   "file_extension": ".py",
   "mimetype": "text/x-python",
   "name": "python",
   "nbconvert_exporter": "python",
   "pygments_lexer": "ipython3",
   "version": "3.9.5"
  },
  "toc": {
   "base_numbering": 1,
   "nav_menu": {},
   "number_sections": true,
   "sideBar": true,
   "skip_h1_title": true,
   "title_cell": "Table of Contents",
   "title_sidebar": "Contents",
   "toc_cell": false,
   "toc_position": {},
   "toc_section_display": true,
   "toc_window_display": false
  }
 },
 "nbformat": 4,
 "nbformat_minor": 2
}
